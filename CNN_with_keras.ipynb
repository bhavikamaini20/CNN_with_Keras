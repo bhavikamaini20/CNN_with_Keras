{
  "nbformat": 4,
  "nbformat_minor": 0,
  "metadata": {
    "colab": {
      "provenance": [],
      "authorship_tag": "ABX9TyNBhLff61pgACP/kts1YGjg",
      "include_colab_link": true
    },
    "kernelspec": {
      "name": "python3",
      "display_name": "Python 3"
    },
    "language_info": {
      "name": "python"
    }
  },
  "cells": [
    {
      "cell_type": "markdown",
      "metadata": {
        "id": "view-in-github",
        "colab_type": "text"
      },
      "source": [
        "<a href=\"https://colab.research.google.com/github/bhavikamaini20/CNN_with_Keras/blob/main/CNN_with_keras.ipynb\" target=\"_parent\"><img src=\"https://colab.research.google.com/assets/colab-badge.svg\" alt=\"Open In Colab\"/></a>"
      ]
    },
    {
      "cell_type": "code",
      "execution_count": 1,
      "metadata": {
        "id": "c15gPJ7D0hlO"
      },
      "outputs": [],
      "source": [
        "import keras\n",
        "from keras.models import Sequential\n",
        "from keras.layers import Dense\n",
        "from keras.utils import to_categorical"
      ]
    },
    {
      "cell_type": "code",
      "source": [
        "from tensorflow.keras.layers import Conv2D, MaxPooling2D, Flatten\n"
      ],
      "metadata": {
        "id": "mEMhdvFF1XSR"
      },
      "execution_count": 4,
      "outputs": []
    },
    {
      "cell_type": "markdown",
      "source": [
        " **Convolutional Layer with One set of convolutional and pooling**"
      ],
      "metadata": {
        "id": "G5a0LU9l1fcO"
      }
    },
    {
      "cell_type": "code",
      "source": [
        "# import data\n",
        "from keras.datasets import mnist\n",
        "\n",
        "# load data\n",
        "(X_train, y_train), (X_test, y_test) = mnist.load_data()\n",
        "\n",
        "# reshape to be [samples][pixels][width][height]\n",
        "X_train = X_train.reshape(X_train.shape[0], 28, 28, 1).astype('float32')\n",
        "X_test = X_test.reshape(X_test.shape[0], 28, 28, 1).astype('float32')"
      ],
      "metadata": {
        "colab": {
          "base_uri": "https://localhost:8080/"
        },
        "id": "5W76KktQ1gbz",
        "outputId": "4686d66c-5b93-4632-daa4-d22c603bce4d"
      },
      "execution_count": 5,
      "outputs": [
        {
          "output_type": "stream",
          "name": "stdout",
          "text": [
            "Downloading data from https://storage.googleapis.com/tensorflow/tf-keras-datasets/mnist.npz\n",
            "11490434/11490434 [==============================] - 0s 0us/step\n"
          ]
        }
      ]
    },
    {
      "cell_type": "markdown",
      "source": [
        "Let's normalize the pixel values to be between 0 and 1"
      ],
      "metadata": {
        "id": "x0Jc0YUY1xpY"
      }
    },
    {
      "cell_type": "code",
      "source": [
        "X_train = X_train / 255 # normalize training data\n",
        "X_test = X_test / 255 # normalize test data"
      ],
      "metadata": {
        "id": "7YWANIHn10v1"
      },
      "execution_count": 6,
      "outputs": []
    },
    {
      "cell_type": "markdown",
      "source": [
        "convert the target variable into binary categories"
      ],
      "metadata": {
        "id": "gGt76MSV1808"
      }
    },
    {
      "cell_type": "code",
      "source": [
        "y_train = to_categorical(y_train)\n",
        "y_test = to_categorical(y_test)\n",
        "\n",
        "num_classes = y_test.shape[1] # number of categories"
      ],
      "metadata": {
        "id": "4Eof2S6b19rP"
      },
      "execution_count": 7,
      "outputs": []
    },
    {
      "cell_type": "code",
      "source": [
        "def convolutional_model():\n",
        "\n",
        "    # create model\n",
        "    model = Sequential()\n",
        "    model.add(Conv2D(16, (5, 5), strides=(1, 1), activation='relu', input_shape=(28, 28, 1)))\n",
        "    model.add(MaxPooling2D(pool_size=(2, 2), strides=(2, 2)))\n",
        "\n",
        "    model.add(Flatten())\n",
        "    model.add(Dense(100, activation='relu'))\n",
        "    model.add(Dense(num_classes, activation='softmax'))\n",
        "\n",
        "    # compile model\n",
        "    model.compile(optimizer='adam', loss='categorical_crossentropy',  metrics=['accuracy'])\n",
        "    return model"
      ],
      "metadata": {
        "id": "IlLVswI-2Ii3"
      },
      "execution_count": 8,
      "outputs": []
    },
    {
      "cell_type": "code",
      "source": [
        "# build the model\n",
        "model = convolutional_model()\n",
        "\n",
        "# fit the model\n",
        "model.fit(X_train, y_train, validation_data=(X_test, y_test), epochs=10, batch_size=200, verbose=2)\n",
        "\n",
        "# evaluate the model\n",
        "scores = model.evaluate(X_test, y_test, verbose=0)\n",
        "print(\"Accuracy: {} \\n Error: {}\".format(scores[1], 100-scores[1]*100))"
      ],
      "metadata": {
        "colab": {
          "base_uri": "https://localhost:8080/"
        },
        "id": "SaoFoyPv2NqY",
        "outputId": "5fbb9ded-f680-4fae-8172-270ab65a0af6"
      },
      "execution_count": 9,
      "outputs": [
        {
          "output_type": "stream",
          "name": "stdout",
          "text": [
            "Epoch 1/10\n",
            "300/300 - 19s - loss: 0.2934 - accuracy: 0.9200 - val_loss: 0.1066 - val_accuracy: 0.9689 - 19s/epoch - 63ms/step\n",
            "Epoch 2/10\n",
            "300/300 - 22s - loss: 0.0932 - accuracy: 0.9731 - val_loss: 0.0680 - val_accuracy: 0.9798 - 22s/epoch - 73ms/step\n",
            "Epoch 3/10\n",
            "300/300 - 18s - loss: 0.0625 - accuracy: 0.9816 - val_loss: 0.0494 - val_accuracy: 0.9837 - 18s/epoch - 60ms/step\n",
            "Epoch 4/10\n",
            "300/300 - 21s - loss: 0.0472 - accuracy: 0.9860 - val_loss: 0.0420 - val_accuracy: 0.9862 - 21s/epoch - 71ms/step\n",
            "Epoch 5/10\n",
            "300/300 - 19s - loss: 0.0382 - accuracy: 0.9887 - val_loss: 0.0487 - val_accuracy: 0.9837 - 19s/epoch - 63ms/step\n",
            "Epoch 6/10\n",
            "300/300 - 17s - loss: 0.0312 - accuracy: 0.9906 - val_loss: 0.0445 - val_accuracy: 0.9850 - 17s/epoch - 58ms/step\n",
            "Epoch 7/10\n",
            "300/300 - 19s - loss: 0.0264 - accuracy: 0.9924 - val_loss: 0.0359 - val_accuracy: 0.9884 - 19s/epoch - 62ms/step\n",
            "Epoch 8/10\n",
            "300/300 - 18s - loss: 0.0223 - accuracy: 0.9931 - val_loss: 0.0357 - val_accuracy: 0.9891 - 18s/epoch - 59ms/step\n",
            "Epoch 9/10\n",
            "300/300 - 18s - loss: 0.0181 - accuracy: 0.9944 - val_loss: 0.0478 - val_accuracy: 0.9844 - 18s/epoch - 58ms/step\n",
            "Epoch 10/10\n",
            "300/300 - 18s - loss: 0.0160 - accuracy: 0.9951 - val_loss: 0.0343 - val_accuracy: 0.9885 - 18s/epoch - 61ms/step\n",
            "Accuracy: 0.9884999990463257 \n",
            " Error: 1.1500000953674316\n"
          ]
        }
      ]
    },
    {
      "cell_type": "markdown",
      "source": [
        "**Convolutional Layer with two sets of convolutional and pooling layers**"
      ],
      "metadata": {
        "id": "vtjLQ8-w2UJJ"
      }
    },
    {
      "cell_type": "code",
      "source": [
        "def convolutional_model():\n",
        "\n",
        "    # create model\n",
        "    model = Sequential()\n",
        "    model.add(Conv2D(16, (5, 5), activation='relu', input_shape=(28, 28, 1)))\n",
        "    model.add(MaxPooling2D(pool_size=(2, 2), strides=(2, 2)))\n",
        "\n",
        "    model.add(Conv2D(8, (2, 2), activation='relu'))\n",
        "    model.add(MaxPooling2D(pool_size=(2, 2), strides=(2, 2)))\n",
        "\n",
        "    model.add(Flatten())\n",
        "    model.add(Dense(100, activation='relu'))\n",
        "    model.add(Dense(num_classes, activation='softmax'))\n",
        "\n",
        "    # Compile model\n",
        "    model.compile(optimizer='adam', loss='categorical_crossentropy',  metrics=['accuracy'])\n",
        "    return model"
      ],
      "metadata": {
        "id": "Zr8YzuOh2WYr"
      },
      "execution_count": 10,
      "outputs": []
    },
    {
      "cell_type": "code",
      "source": [
        "# build the model\n",
        "model = convolutional_model()\n",
        "\n",
        "# fit the model\n",
        "model.fit(X_train, y_train, validation_data=(X_test, y_test), epochs=10, batch_size=200, verbose=2)\n",
        "\n",
        "# evaluate the model\n",
        "scores = model.evaluate(X_test, y_test, verbose=0)\n",
        "print(\"Accuracy: {} \\n Error: {}\".format(scores[1], 100-scores[1]*100))"
      ],
      "metadata": {
        "colab": {
          "base_uri": "https://localhost:8080/"
        },
        "id": "wmknt4bv2fWQ",
        "outputId": "68dd36e9-78d0-4786-fbcf-b51d2df05ca2"
      },
      "execution_count": 11,
      "outputs": [
        {
          "output_type": "stream",
          "name": "stdout",
          "text": [
            "Epoch 1/10\n",
            "300/300 - 21s - loss: 0.4436 - accuracy: 0.8746 - val_loss: 0.1308 - val_accuracy: 0.9591 - 21s/epoch - 71ms/step\n",
            "Epoch 2/10\n",
            "300/300 - 19s - loss: 0.1153 - accuracy: 0.9655 - val_loss: 0.0884 - val_accuracy: 0.9725 - 19s/epoch - 62ms/step\n",
            "Epoch 3/10\n",
            "300/300 - 18s - loss: 0.0849 - accuracy: 0.9749 - val_loss: 0.0648 - val_accuracy: 0.9785 - 18s/epoch - 62ms/step\n",
            "Epoch 4/10\n",
            "300/300 - 21s - loss: 0.0692 - accuracy: 0.9786 - val_loss: 0.0556 - val_accuracy: 0.9815 - 21s/epoch - 69ms/step\n",
            "Epoch 5/10\n",
            "300/300 - 19s - loss: 0.0593 - accuracy: 0.9815 - val_loss: 0.0571 - val_accuracy: 0.9816 - 19s/epoch - 62ms/step\n",
            "Epoch 6/10\n",
            "300/300 - 20s - loss: 0.0510 - accuracy: 0.9843 - val_loss: 0.0483 - val_accuracy: 0.9843 - 20s/epoch - 65ms/step\n",
            "Epoch 7/10\n",
            "300/300 - 18s - loss: 0.0452 - accuracy: 0.9857 - val_loss: 0.0429 - val_accuracy: 0.9862 - 18s/epoch - 60ms/step\n",
            "Epoch 8/10\n",
            "300/300 - 20s - loss: 0.0403 - accuracy: 0.9872 - val_loss: 0.0408 - val_accuracy: 0.9882 - 20s/epoch - 67ms/step\n",
            "Epoch 9/10\n",
            "300/300 - 18s - loss: 0.0365 - accuracy: 0.9887 - val_loss: 0.0425 - val_accuracy: 0.9863 - 18s/epoch - 61ms/step\n",
            "Epoch 10/10\n",
            "300/300 - 18s - loss: 0.0326 - accuracy: 0.9897 - val_loss: 0.0399 - val_accuracy: 0.9874 - 18s/epoch - 60ms/step\n",
            "Accuracy: 0.9873999953269958 \n",
            " Error: 1.260000467300415\n"
          ]
        }
      ]
    }
  ]
}